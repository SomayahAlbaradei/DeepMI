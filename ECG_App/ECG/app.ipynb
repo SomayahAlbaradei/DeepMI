{
 "cells": [
  {
   "cell_type": "code",
   "execution_count": null,
   "id": "8ec60b6c",
   "metadata": {},
   "outputs": [
    {
     "name": "stdout",
     "output_type": "stream",
     "text": [
      " * Serving Flask app '__main__'\n",
      " * Debug mode: off\n"
     ]
    },
    {
     "name": "stderr",
     "output_type": "stream",
     "text": [
      "WARNING: This is a development server. Do not use it in a production deployment. Use a production WSGI server instead.\n",
      " * Running on http://127.0.0.1:5000\n",
      "Press CTRL+C to quit\n",
      "127.0.0.1 - - [22/Nov/2023 23:28:39] \"GET / HTTP/1.1\" 200 -\n",
      "127.0.0.1 - - [22/Nov/2023 23:28:39] \"GET /static/images/foo.jpg HTTP/1.1\" 304 -\n"
     ]
    },
    {
     "name": "stdout",
     "output_type": "stream",
     "text": [
      "1/1 [==============================] - 1s 578ms/step\n"
     ]
    },
    {
     "name": "stderr",
     "output_type": "stream",
     "text": [
      "127.0.0.1 - - [22/Nov/2023 23:28:45] \"POST /predict HTTP/1.1\" 200 -\n",
      "127.0.0.1 - - [22/Nov/2023 23:28:45] \"GET /static/images/foo.jpg HTTP/1.1\" 200 -\n"
     ]
    },
    {
     "name": "stdout",
     "output_type": "stream",
     "text": [
      "1/1 [==============================] - 0s 99ms/step\n"
     ]
    },
    {
     "name": "stderr",
     "output_type": "stream",
     "text": [
      "127.0.0.1 - - [22/Nov/2023 23:29:05] \"POST /predict HTTP/1.1\" 200 -\n",
      "127.0.0.1 - - [22/Nov/2023 23:29:05] \"GET /static/images/foo.jpg HTTP/1.1\" 200 -\n"
     ]
    },
    {
     "name": "stdout",
     "output_type": "stream",
     "text": [
      "1/1 [==============================] - 0s 100ms/step\n"
     ]
    },
    {
     "name": "stderr",
     "output_type": "stream",
     "text": [
      "127.0.0.1 - - [22/Nov/2023 23:29:29] \"POST /predict HTTP/1.1\" 200 -\n",
      "127.0.0.1 - - [22/Nov/2023 23:29:29] \"GET /static/images/foo.jpg HTTP/1.1\" 200 -\n"
     ]
    }
   ],
   "source": [
    "from flask import Flask, render_template, request\n",
    "import cv2\n",
    "import numpy as np\n",
    "from tensorflow.keras.preprocessing import image\n",
    "from tensorflow.keras.models import load_model\n",
    "import time\n",
    "\n",
    "\n",
    "app = Flask(__name__)\n",
    "\n",
    "model = load_model('Models/ecg_resnet_model.h5')\n",
    "\n",
    "@app.route('/')\n",
    "def index():\n",
    "    return render_template('index.html')\n",
    "\n",
    "@app.route('/predict', methods=['POST'])\n",
    "def predict():\n",
    "    img = request.files['img']\n",
    "    img.save('static/images/foo.jpg')\n",
    "\n",
    "    img = image.load_img('static/images/foo.jpg', target_size=(224, 224, 3))\n",
    "    img_array = image.img_to_array(img)\n",
    "    img_array = np.expand_dims(img_array, axis=0)\n",
    "    \n",
    "    start_time = time.time()\n",
    "    \n",
    "    y_predPercent = model.predict(img_array)\n",
    "    y_pred = (y_predPercent > 0.5).astype(int)\n",
    "    \n",
    "    end_time = time.time()\n",
    "\n",
    "    # Calculate the elapsed time\n",
    "    elapsed_time = end_time - start_time\n",
    "\n",
    "    elapsed_time = round(elapsed_time, 4)\n",
    "\n",
    "    elapsed_time = str(elapsed_time)\n",
    "    \n",
    "    if y_pred == 0:\n",
    "        y_predPercent[0][0] = round(1 - y_predPercent[0][0], 4)\n",
    "        y_predPercentage = str(round(y_predPercent[0][0]*100, 4))\n",
    "        return render_template('index.html', data= \"Myocardial\", predictionTime = elapsed_time, percentage = y_predPercentage)\n",
    "    else:\n",
    "        y_predPercent[0][0] = round(y_predPercent[0][0], 4)\n",
    "        y_predPercentage = str(round(y_predPercent[0][0]*100, 4))\n",
    "        return render_template('index.html', data= \"Normal\", predictionTime = elapsed_time, percentage = y_predPercentage)\n",
    "\n",
    "if __name__ == '__main__':\n",
    "    app.run()"
   ]
  },
  {
   "cell_type": "code",
   "execution_count": null,
   "id": "ce1b2d14",
   "metadata": {},
   "outputs": [],
   "source": []
  }
 ],
 "metadata": {
  "kernelspec": {
   "display_name": "Python 3 (ipykernel)",
   "language": "python",
   "name": "python3"
  },
  "language_info": {
   "codemirror_mode": {
    "name": "ipython",
    "version": 3
   },
   "file_extension": ".py",
   "mimetype": "text/x-python",
   "name": "python",
   "nbconvert_exporter": "python",
   "pygments_lexer": "ipython3",
   "version": "3.10.9"
  }
 },
 "nbformat": 4,
 "nbformat_minor": 5
}
